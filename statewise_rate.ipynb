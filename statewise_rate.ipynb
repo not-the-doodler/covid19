{
 "cells": [
  {
   "cell_type": "code",
   "execution_count": 22,
   "metadata": {},
   "outputs": [],
   "source": [
    "import numpy as np\n",
    "import pandas as pd"
   ]
  },
  {
   "cell_type": "code",
   "execution_count": 23,
   "metadata": {},
   "outputs": [
    {
     "data": {
      "text/plain": [
       "Index(['Date', 'Status', 'TT', 'AN', 'AP', 'AR', 'AS', 'BR', 'CH', 'CT', 'DN',\n",
       "       'DD', 'DL', 'GA', 'GJ', 'HR', 'HP', 'JK', 'JH', 'KA', 'KL', 'LA', 'LD',\n",
       "       'MP', 'MH', 'MN', 'ML', 'MZ', 'NL', 'OR', 'PY', 'PB', 'RJ', 'SK', 'TN',\n",
       "       'TG', 'TR', 'UP', 'UT', 'WB'],\n",
       "      dtype='object')"
      ]
     },
     "execution_count": 23,
     "metadata": {},
     "output_type": "execute_result"
    }
   ],
   "source": [
    "dataset = pd.read_csv('https://api.covid19india.org/csv/latest/state_wise_daily.csv')\n",
    "df = pd.DataFrame(dataset)\n",
    "state='MH'  #choose which state to calc for\n",
    "state_codes=df.columns\n",
    "state_array=df[state].to_numpy()\n",
    "tc = []\n",
    "td = []\n",
    "tr =[]\n",
    "i=0\n",
    "while (i<=len(state_array)-2):\n",
    "    tc.append(state_array[i+0])\n",
    "    tr.append(state_array[i+1])\n",
    "    td.append(state_array[i+2])\n",
    "    i=i+3\n",
    "dc=tc    #dc is dailiy confirmed\n",
    "dd=td    #dd id daily deaths\n",
    "tc=np.cumsum(tc)   #total confirmed\n",
    "tr=np.cumsum(tr)  #total recovered\n",
    "td=np.cumsum(td)  #total deaths\n",
    "state_codes"
   ]
  },
  {
   "cell_type": "code",
   "execution_count": 24,
   "metadata": {},
   "outputs": [
    {
     "data": {
      "text/plain": [
       "15.833873536451614"
      ]
     },
     "execution_count": 24,
     "metadata": {},
     "output_type": "execute_result"
    }
   ],
   "source": [
    "growthrate=[]\n",
    "for i in range (0,len(tc)):\n",
    "    if tc[i]==0:\n",
    "        continue\n",
    "    growthrate.append((dc[i]/tc[i])*100)\n",
    "avg_gr=np.mean(growthrate)  \n",
    "avg_gr"
   ]
  },
  {
   "cell_type": "code",
   "execution_count": 25,
   "metadata": {},
   "outputs": [
    {
     "data": {
      "text/plain": [
       "4.294789633958213"
      ]
     },
     "execution_count": 25,
     "metadata": {},
     "output_type": "execute_result"
    }
   ],
   "source": [
    "deathrate_normal=[]\n",
    "for i in range (1,len(td)):\n",
    "    if tc[i]==0:\n",
    "        continue    \n",
    "    deathrate_normal.append((td[i]/tc[i])*100)\n",
    "avg_drn=np.mean(deathrate_normal) \n",
    "avg_drn"
   ]
  },
  {
   "cell_type": "code",
   "execution_count": 26,
   "metadata": {},
   "outputs": [
    {
     "data": {
      "text/plain": [
       "21.82277818436837"
      ]
     },
     "execution_count": 26,
     "metadata": {},
     "output_type": "execute_result"
    }
   ],
   "source": [
    "deathrate=[] # (deaths at day.x / cases at day.x-{T}) (T=7)\n",
    "for i in range (7,len(dd)):\n",
    "    if dc[i-7]==0:\n",
    "        continue\n",
    "    deathrate.append((dd[i]/dc[i-7])*100)\n",
    "avg_dr=np.mean(deathrate) \n",
    "avg_dr"
   ]
  },
  {
   "cell_type": "code",
   "execution_count": 27,
   "metadata": {},
   "outputs": [
    {
     "data": {
      "text/plain": [
       "7.66133944665139"
      ]
     },
     "execution_count": 27,
     "metadata": {},
     "output_type": "execute_result"
    }
   ],
   "source": [
    "recoveryrate=[]\n",
    "for i in range (1,len(td)):\n",
    "    if tc[i]==0:\n",
    "        continue\n",
    "    recoveryrate.append((tr[i]/tc[i])*100)\n",
    "avg_rr=np.mean(recoveryrate) \n",
    "avg_rr"
   ]
  },
  {
   "cell_type": "code",
   "execution_count": null,
   "metadata": {},
   "outputs": [],
   "source": []
  }
 ],
 "metadata": {
  "kernelspec": {
   "display_name": "Python 3",
   "language": "python",
   "name": "python3"
  },
  "language_info": {
   "codemirror_mode": {
    "name": "ipython",
    "version": 3
   },
   "file_extension": ".py",
   "mimetype": "text/x-python",
   "name": "python",
   "nbconvert_exporter": "python",
   "pygments_lexer": "ipython3",
   "version": "3.8.2"
  }
 },
 "nbformat": 4,
 "nbformat_minor": 4
}
